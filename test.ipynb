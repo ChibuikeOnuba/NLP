{
 "cells": [
  {
   "cell_type": "code",
   "execution_count": 1,
   "metadata": {},
   "outputs": [],
   "source": [
    "import pandas as pd\n",
    "import matplotlib.pyplot as plt\n",
    "import matplotlib.colors as mcolors\n",
    "import seaborn as sns\n",
    "from nltk.stem import PorterStemmer, WordNetLemmatizer\n",
    "from nltk.sentiment import SentimentIntensityAnalyzer, SentimentAnalyzer"
   ]
  },
  {
   "cell_type": "code",
   "execution_count": 3,
   "metadata": {},
   "outputs": [],
   "source": [
    "sa = SentimentAnalyzer()\n",
    "sia = SentimentIntensityAnalyzer()\n",
    "\n",
    "intensity = sia.polarity_scores('LIONS ARE CRUEL ANIMALS')\n",
    "df  = pd.DataFrame(intensity, index=['value']).T"
   ]
  },
  {
   "cell_type": "code",
   "execution_count": null,
   "metadata": {},
   "outputs": [],
   "source": [
    "    colors = ['red' if value <0 else 'blue' for value in values]\n",
    "    fig, ax = plt.subplots(figsize=(5,4))\n",
    "    ax.bar(keys, values, color=colors)\n",
    "    ax.axhline(0, color='gray',linestyle='--', linewidth=0.5)\n",
    "    ax.set_ylim(-1,1)\n",
    "    col[1].pyplot(fig)"
   ]
  },
  {
   "cell_type": "code",
   "execution_count": 18,
   "metadata": {},
   "outputs": [
    {
     "data": {
      "text/plain": [
       "(-1.0, 1.0)"
      ]
     },
     "execution_count": 18,
     "metadata": {},
     "output_type": "execute_result"
    },
    {
     "data": {
      "image/png": "[encoded data removed]",
      "text/plain": [
       "<Figure size 500x700 with 1 Axes>"
      ]
     },
     "metadata": {},
     "output_type": "display_data"
    }
   ],
   "source": [
    "keys = list(intensity.keys())\n",
    "values = list(intensity.values())\n",
    "\n",
    "colors = ['red' if value <0 else 'blue' for value in values]\n",
    "\n",
    "plt.figure(figsize=(5,4))\n",
    "# Plotting the bar chart\n",
    "plt.bar(keys, values, color=colors)\n",
    "\n",
    "plt.axhline(0, color='gray',linestyle='--', linewidth=0.5)\n",
    "plt.ylim(-1,1)"
   ]
  },
  {
   "cell_type": "markdown",
   "metadata": {},
   "source": [
    "#### **Analyzing list of reviews**"
   ]
  },
  {
   "cell_type": "code",
   "execution_count": 31,
   "metadata": {},
   "outputs": [],
   "source": [
    "def remark(com):\n",
    "    if com > 0.25:\n",
    "        return 'positive'\n",
    "    if com < -0.25:\n",
    "        return 'negative'\n",
    "    else:\n",
    "        return 'neutral'"
   ]
  },
  {
   "cell_type": "code",
   "execution_count": 33,
   "metadata": {},
   "outputs": [
    {
     "name": "stdout",
     "output_type": "stream",
     "text": [
      "{'neg': 0.0, 'neu': 0.263, 'pos': 0.737, 'compound': 0.4215, 'remark': 'positive'}\n",
      "{'neg': 0.513, 'neu': 0.487, 'pos': 0.0, 'compound': -0.2755, 'remark': 'negative'}\n",
      "{'neg': 0.0, 'neu': 0.435, 'pos': 0.565, 'compound': 0.3804, 'remark': 'positive'}\n",
      "{'neg': 0.0, 'neu': 0.532, 'pos': 0.468, 'compound': 0.5267, 'remark': 'positive'}\n"
     ]
    }
   ],
   "source": [
    "comments = ['Nice product','I dont like them','make more please','I want to get for my friends also']\n",
    "\n",
    "for com in comments:\n",
    "    review = sia.polarity_scores(com)\n",
    "    review['remark'] = remark(review['compoud'])\n",
    "    print(review)\n",
    "\n"
   ]
  },
  {
   "cell_type": "code",
   "execution_count": 2,
   "metadata": {},
   "outputs": [
    {
     "ename": "AttributeError",
     "evalue": "'list' object has no attribute 'value_counts'",
     "output_type": "error",
     "traceback": [
      "\u001b[1;31m---------------------------------------------------------------------------\u001b[0m",
      "\u001b[1;31mAttributeError\u001b[0m                            Traceback (most recent call last)",
      "Cell \u001b[1;32mIn [2], line 2\u001b[0m\n\u001b[0;32m      1\u001b[0m win \u001b[38;5;241m=\u001b[39m [\u001b[38;5;124m'\u001b[39m\u001b[38;5;124mhjfvb\u001b[39m\u001b[38;5;124m'\u001b[39m,\u001b[38;5;124m'\u001b[39m\u001b[38;5;124mhjcl\u001b[39m\u001b[38;5;124m'\u001b[39m,\u001b[38;5;124m'\u001b[39m\u001b[38;5;124mjblc\u001b[39m\u001b[38;5;124m'\u001b[39m]\n\u001b[1;32m----> 2\u001b[0m win\u001b[38;5;241m.\u001b[39mvalue_counts()\n",
      "\u001b[1;31mAttributeError\u001b[0m: 'list' object has no attribute 'value_counts'"
     ]
    }
   ],
   "source": [
    "win = ['hjfvb','hjcl','jblc']\n",
    "win.value_counts()"
   ]
  },
  {
   "cell_type": "code",
   "execution_count": null,
   "metadata": {},
   "outputs": [],
   "source": []
  }
 ],
 "metadata": {
  "kernelspec": {
   "display_name": "Python 3",
   "language": "python",
   "name": "python3"
  },
  "language_info": {
   "codemirror_mode": {
    "name": "ipython",
    "version": 3
   },
   "file_extension": ".py",
   "mimetype": "text/x-python",
   "name": "python",
   "nbconvert_exporter": "python",
   "pygments_lexer": "ipython3",
   "version": "3.10.4"
  }
 },
 "nbformat": 4,
 "nbformat_minor": 2
}
