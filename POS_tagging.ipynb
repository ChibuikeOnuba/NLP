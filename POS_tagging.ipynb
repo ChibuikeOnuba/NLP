{
 "cells": [
  {
   "cell_type": "markdown",
   "metadata": {},
   "source": [
    "### **POS Tagging with NLTK**"
   ]
  },
  {
   "cell_type": "code",
   "execution_count": 1,
   "metadata": {},
   "outputs": [
    {
     "name": "stdout",
     "output_type": "stream",
     "text": [
      "The | DT\n",
      "quick | JJ\n",
      "brown | NN\n",
      "fox | NN\n",
      "jumps | VBZ\n",
      "over | IN\n",
      "the | DT\n",
      "lazy | JJ\n",
      "dog | NN\n",
      ". | .\n"
     ]
    }
   ],
   "source": [
    "import nltk\n",
    "from nltk.tokenize import word_tokenize\n",
    "from nltk import pos_tag\n",
    "\n",
    "\n",
    "# Example sentence\n",
    "sentence = \"The quick brown fox jumps over the lazy dog.\"\n",
    "\n",
    "# Tokenize the sentence\n",
    "tokens = word_tokenize(sentence)\n",
    "\n",
    "# Perform POS tagging\n",
    "pos_tags = pos_tag(tokens)\n",
    "\n",
    "# Print the tagged words\n",
    "for word, tag in pos_tags:\n",
    "    print(f\"{word} | {tag}\")"
   ]
  },
  {
   "cell_type": "markdown",
   "metadata": {},
   "source": [
    "### **POS Tagging with SpaCy**"
   ]
  },
  {
   "cell_type": "code",
   "execution_count": 2,
   "metadata": {},
   "outputs": [
    {
     "name": "stdout",
     "output_type": "stream",
     "text": [
      "She | PRON | pronoun\n",
      "likes | VERB | verb\n",
      "to | PART | particle\n",
      "read | VERB | verb\n",
      "books | NOUN | noun\n"
     ]
    }
   ],
   "source": [
    "import spacy\n",
    "\n",
    "# load the english language model\n",
    "nlp = spacy.load(\"en_core_web_sm\")\n",
    "\n",
    "sentence = \"She likes to read books\"\n",
    "\n",
    "# create a doc object from the sentence\n",
    "doc = nlp(sentence)\n",
    "\n",
    "\n",
    "for token in doc:\n",
    "    print(token.text, '|', token.pos_, '|', spacy.explain(token.pos_))"
   ]
  },
  {
   "cell_type": "code",
   "execution_count": 3,
   "metadata": {},
   "outputs": [
    {
     "name": "stdout",
     "output_type": "stream",
     "text": [
      "Elon | PROPN proper noun noun, proper singular\n",
      "flew | VERB verb verb, past tense\n",
      "to | ADP adposition conjunction, subordinating or preposition\n",
      "mars | NOUN noun noun, plural\n",
      "yesterday | NOUN noun noun, singular or mass\n",
      ". | PUNCT punctuation punctuation mark, sentence closer\n",
      "He | PRON pronoun pronoun, personal\n",
      "carried | VERB verb verb, past tense\n",
      "the | DET determiner determiner\n",
      "Winner | PROPN proper noun noun, proper singular\n",
      "with | ADP adposition conjunction, subordinating or preposition\n",
      "him | PRON pronoun pronoun, personal\n"
     ]
    }
   ],
   "source": [
    "doc = nlp('Elon flew to mars yesterday. He carried the Winner with him')\n",
    "\n",
    "for token in doc:\n",
    "    print(token, '|' ,token.pos_, spacy.explain(token.pos_), \n",
    "          spacy.explain(token.tag_))"
   ]
  },
  {
   "cell_type": "markdown",
   "metadata": {},
   "source": [
    "NLP ALSO RECOGNISES TENSE"
   ]
  },
  {
   "cell_type": "code",
   "execution_count": 4,
   "metadata": {},
   "outputs": [],
   "source": [
    "from nltk.stem import PorterStemmer"
   ]
  },
  {
   "cell_type": "markdown",
   "metadata": {},
   "source": [
    "#### **NER**"
   ]
  },
  {
   "cell_type": "code",
   "execution_count": null,
   "metadata": {},
   "outputs": [],
   "source": [
    "import spacy\n",
    "\n",
    "nlp = spacy.load('en_web_small')"
   ]
  },
  {
   "cell_type": "code",
   "execution_count": 1,
   "metadata": {},
   "outputs": [],
   "source": [
    "import matplotlib.pyplot as plt"
   ]
  },
  {
   "cell_type": "code",
   "execution_count": null,
   "metadata": {},
   "outputs": [],
   "source": [
    "keys = list(data.keys())\n",
    "values = list(data.values())\n",
    "\n",
    "# Plotting the bar chart\n",
    "plt.bar(keys, values, color='skyblue')\n",
    "\n",
    "# Adding labels and title\n",
    "plt.xlabel('Keys')\n",
    "plt.ylabel('Values')\n",
    "plt.title('Bar Chart of Dictionary Values')\n",
    "\n",
    "# Rotating x-axis labels for better readability (optional)\n",
    "plt.xticks(rotation=45)\n",
    "\n",
    "# Displaying the plot\n",
    "plt.show()"
   ]
  }
 ],
 "metadata": {
  "kernelspec": {
   "display_name": "Python 3",
   "language": "python",
   "name": "python3"
  },
  "language_info": {
   "codemirror_mode": {
    "name": "ipython",
    "version": 3
   },
   "file_extension": ".py",
   "mimetype": "text/x-python",
   "name": "python",
   "nbconvert_exporter": "python",
   "pygments_lexer": "ipython3",
   "version": "3.10.4"
  }
 },
 "nbformat": 4,
 "nbformat_minor": 2
}
