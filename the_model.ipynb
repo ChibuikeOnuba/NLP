{
 "cells": [
  {
   "cell_type": "code",
   "execution_count": 2,
   "metadata": {},
   "outputs": [],
   "source": [
    "import pandas as pd\n",
    "import numpy as np\n",
    "import matplotlib.pyplot as plt\n",
    "import seaborn as sns\n",
    "import spacy\n",
    "plt.style.use('ggplot')\n",
    "import nltk\n",
    "\n",
    "nlp = spacy.load('en_core_web_sm')"
   ]
  },
  {
   "cell_type": "code",
   "execution_count": 3,
   "metadata": {},
   "outputs": [],
   "source": [
    "data = pd.read_csv('Reviews.csv')"
   ]
  },
  {
   "cell_type": "code",
   "execution_count": 4,
   "metadata": {},
   "outputs": [
    {
     "data": {
      "text/plain": [
       "(500, 11)"
      ]
     },
     "execution_count": 4,
     "metadata": {},
     "output_type": "execute_result"
    }
   ],
   "source": [
    "df = data.sample(500, random_state=42).reset_index()\n",
    "df.shape"
   ]
  },
  {
   "cell_type": "markdown",
   "metadata": {},
   "source": [
    "BASIC NLTK FUNCTIONS"
   ]
  },
  {
   "cell_type": "code",
   "execution_count": 5,
   "metadata": {},
   "outputs": [
    {
     "data": {
      "text/plain": [
       "'With a legendary name like Gevalia, I was disappointed to find that the coffee contains artificial flavors.  The outside packaging looks gourmet and epicurean, with gold lettering.  Unfortunately, artificial flavoring also plainly occupies the front face.<br /><br />The aroma from the coffee is quite pleasant, however, after brewing, the coffee itself is nothing to write home about.  In fact, it tasted rather bitter.<br /><br />I would not buy this item.'"
      ]
     },
     "execution_count": 5,
     "metadata": {},
     "output_type": "execute_result"
    }
   ],
   "source": [
    "example = df.Text.values[50]\n",
    "example"
   ]
  },
  {
   "cell_type": "code",
   "execution_count": 6,
   "metadata": {},
   "outputs": [
    {
     "data": {
      "text/plain": [
       "['With',\n",
       " 'a',\n",
       " 'legendary',\n",
       " 'name',\n",
       " 'like',\n",
       " 'Gevalia',\n",
       " ',',\n",
       " 'I',\n",
       " 'was',\n",
       " 'disappointed']"
      ]
     },
     "execution_count": 6,
     "metadata": {},
     "output_type": "execute_result"
    }
   ],
   "source": [
    "# tokenizing\n",
    "tokens = nltk.word_tokenize(example)\n",
    "tokens[:10]"
   ]
  },
  {
   "cell_type": "code",
   "execution_count": 7,
   "metadata": {},
   "outputs": [
    {
     "data": {
      "text/plain": [
       "[('With', 'IN'),\n",
       " ('a', 'DT'),\n",
       " ('legendary', 'JJ'),\n",
       " ('name', 'NN'),\n",
       " ('like', 'IN'),\n",
       " ('Gevalia', 'NNP'),\n",
       " (',', ','),\n",
       " ('I', 'PRP'),\n",
       " ('was', 'VBD'),\n",
       " ('disappointed', 'VBN')]"
      ]
     },
     "execution_count": 7,
     "metadata": {},
     "output_type": "execute_result"
    }
   ],
   "source": [
    "# extracting parts of speech tags\n",
    "tagged = nltk.pos_tag(tokens)\n",
    "tagged[:10]"
   ]
  },
  {
   "cell_type": "code",
   "execution_count": 8,
   "metadata": {},
   "outputs": [
    {
     "name": "stdout",
     "output_type": "stream",
     "text": [
      "legendary like Gevalia disappointed find coffee contains artificial flavors   outside packaging looks gourmet epicurean gold lettering   Unfortunately artificial flavoring plainly occupies face.<br /><br />The aroma coffee pleasant brewing coffee write home   fact tasted bitter.<br /><br />I buy item\n"
     ]
    }
   ],
   "source": [
    "# Removing stop words and punctuations\n",
    "doc = nlp(example)\n",
    "clean_example = []\n",
    "for token in doc:\n",
    "    if token.is_stop or token.is_punct:\n",
    "        continue\n",
    "    clean_example.append(str(token))\n",
    "    clean = ' '.join(clean_example)\n",
    "print(clean)"
   ]
  },
  {
   "cell_type": "markdown",
   "metadata": {},
   "source": [
    "### **ANALYSIS OF THE VADER MODEL**"
   ]
  },
  {
   "cell_type": "code",
   "execution_count": 9,
   "metadata": {},
   "outputs": [],
   "source": [
    "from nltk.sentiment import SentimentIntensityAnalyzer\n",
    "from tqdm.notebook import tqdm\n",
    "sia = SentimentIntensityAnalyzer()"
   ]
  },
  {
   "cell_type": "code",
   "execution_count": 10,
   "metadata": {},
   "outputs": [
    {
     "data": {
      "text/plain": [
       "Index(['index', 'Id', 'ProductId', 'UserId', 'ProfileName',\n",
       "       'HelpfulnessNumerator', 'HelpfulnessDenominator', 'Score', 'Time',\n",
       "       'Summary', 'Text'],\n",
       "      dtype='object')"
      ]
     },
     "execution_count": 10,
     "metadata": {},
     "output_type": "execute_result"
    }
   ],
   "source": [
    "df.columns"
   ]
  },
  {
   "cell_type": "code",
   "execution_count": 11,
   "metadata": {},
   "outputs": [
    {
     "data": {
      "application/vnd.jupyter.widget-view+json": {
       "model_id": "0d6418b3dbf54c9abe1b28ede85f8a4d",
       "version_major": 2,
       "version_minor": 0
      },
      "text/plain": [
       "  0%|          | 0/500 [00:00<?, ?it/s]"
      ]
     },
     "metadata": {},
     "output_type": "display_data"
    }
   ],
   "source": [
    "res = {}\n",
    "\n",
    "for i,j in tqdm(df.iterrows(), total=len(df)):\n",
    "    text = j.Text\n",
    "    id = j.Id\n",
    "    \n",
    "    res[id] = sia.polarity_scores(text)\n"
   ]
  },
  {
   "cell_type": "code",
   "execution_count": 12,
   "metadata": {},
   "outputs": [
    {
     "data": {
      "text/html": [
       "<div>\n",
       "<style scoped>\n",
       "    .dataframe tbody tr th:only-of-type {\n",
       "        vertical-align: middle;\n",
       "    }\n",
       "\n",
       "    .dataframe tbody tr th {\n",
       "        vertical-align: top;\n",
       "    }\n",
       "\n",
       "    .dataframe thead th {\n",
       "        text-align: right;\n",
       "    }\n",
       "</style>\n",
       "<table border=\"1\" class=\"dataframe\">\n",
       "  <thead>\n",
       "    <tr style=\"text-align: right;\">\n",
       "      <th></th>\n",
       "      <th>Id</th>\n",
       "      <th>neg</th>\n",
       "      <th>neu</th>\n",
       "      <th>pos</th>\n",
       "      <th>compound</th>\n",
       "      <th>index</th>\n",
       "      <th>ProductId</th>\n",
       "      <th>UserId</th>\n",
       "      <th>ProfileName</th>\n",
       "      <th>HelpfulnessNumerator</th>\n",
       "      <th>HelpfulnessDenominator</th>\n",
       "      <th>Score</th>\n",
       "      <th>Time</th>\n",
       "      <th>Summary</th>\n",
       "      <th>Text</th>\n",
       "    </tr>\n",
       "  </thead>\n",
       "  <tbody>\n",
       "    <tr>\n",
       "      <th>0</th>\n",
       "      <td>165257</td>\n",
       "      <td>0.000</td>\n",
       "      <td>0.768</td>\n",
       "      <td>0.232</td>\n",
       "      <td>0.9684</td>\n",
       "      <td>165256</td>\n",
       "      <td>B000EVG8J2</td>\n",
       "      <td>A1L01D2BD3RKVO</td>\n",
       "      <td>B. Miller \"pet person\"</td>\n",
       "      <td>0</td>\n",
       "      <td>0</td>\n",
       "      <td>5</td>\n",
       "      <td>1268179200</td>\n",
       "      <td>Crunchy &amp; Good Gluten-Free Sandwich Cookies!</td>\n",
       "      <td>Having tried a couple of other brands of glute...</td>\n",
       "    </tr>\n",
       "    <tr>\n",
       "      <th>1</th>\n",
       "      <td>231466</td>\n",
       "      <td>0.089</td>\n",
       "      <td>0.766</td>\n",
       "      <td>0.144</td>\n",
       "      <td>0.7920</td>\n",
       "      <td>231465</td>\n",
       "      <td>B0000BXJIS</td>\n",
       "      <td>A3U62RE5XZDP0G</td>\n",
       "      <td>Marty</td>\n",
       "      <td>0</td>\n",
       "      <td>0</td>\n",
       "      <td>5</td>\n",
       "      <td>1298937600</td>\n",
       "      <td>great kitty treats</td>\n",
       "      <td>My cat loves these treats. If ever I can't fin...</td>\n",
       "    </tr>\n",
       "    <tr>\n",
       "      <th>2</th>\n",
       "      <td>427828</td>\n",
       "      <td>0.000</td>\n",
       "      <td>0.880</td>\n",
       "      <td>0.120</td>\n",
       "      <td>0.4588</td>\n",
       "      <td>427827</td>\n",
       "      <td>B008FHUFAU</td>\n",
       "      <td>AOXC0JQQZGGB6</td>\n",
       "      <td>Kenneth Shevlin</td>\n",
       "      <td>0</td>\n",
       "      <td>2</td>\n",
       "      <td>3</td>\n",
       "      <td>1224028800</td>\n",
       "      <td>COFFEE TASTE</td>\n",
       "      <td>A little less than I expected.  It tends to ha...</td>\n",
       "    </tr>\n",
       "    <tr>\n",
       "      <th>3</th>\n",
       "      <td>433955</td>\n",
       "      <td>0.009</td>\n",
       "      <td>0.827</td>\n",
       "      <td>0.163</td>\n",
       "      <td>0.9923</td>\n",
       "      <td>433954</td>\n",
       "      <td>B006BXV14E</td>\n",
       "      <td>A3PWPNZVMNX3PA</td>\n",
       "      <td>rareoopdvds</td>\n",
       "      <td>0</td>\n",
       "      <td>1</td>\n",
       "      <td>2</td>\n",
       "      <td>1335312000</td>\n",
       "      <td>So the Mini-Wheats were too big?</td>\n",
       "      <td>First there was Frosted Mini-Wheats, in origin...</td>\n",
       "    </tr>\n",
       "    <tr>\n",
       "      <th>4</th>\n",
       "      <td>70261</td>\n",
       "      <td>0.089</td>\n",
       "      <td>0.719</td>\n",
       "      <td>0.191</td>\n",
       "      <td>0.9421</td>\n",
       "      <td>70260</td>\n",
       "      <td>B007I7Z3Z0</td>\n",
       "      <td>A1XNZ7PCE45KK7</td>\n",
       "      <td>Og8ys1</td>\n",
       "      <td>0</td>\n",
       "      <td>2</td>\n",
       "      <td>5</td>\n",
       "      <td>1334707200</td>\n",
       "      <td>Great Taste . . .</td>\n",
       "      <td>and I want to congratulate the graphic artist ...</td>\n",
       "    </tr>\n",
       "  </tbody>\n",
       "</table>\n",
       "</div>"
      ],
      "text/plain": [
       "       Id    neg    neu    pos  compound   index   ProductId          UserId  \\\n",
       "0  165257  0.000  0.768  0.232    0.9684  165256  B000EVG8J2  A1L01D2BD3RKVO   \n",
       "1  231466  0.089  0.766  0.144    0.7920  231465  B0000BXJIS  A3U62RE5XZDP0G   \n",
       "2  427828  0.000  0.880  0.120    0.4588  427827  B008FHUFAU   AOXC0JQQZGGB6   \n",
       "3  433955  0.009  0.827  0.163    0.9923  433954  B006BXV14E  A3PWPNZVMNX3PA   \n",
       "4   70261  0.089  0.719  0.191    0.9421   70260  B007I7Z3Z0  A1XNZ7PCE45KK7   \n",
       "\n",
       "              ProfileName  HelpfulnessNumerator  HelpfulnessDenominator  \\\n",
       "0  B. Miller \"pet person\"                     0                       0   \n",
       "1                   Marty                     0                       0   \n",
       "2         Kenneth Shevlin                     0                       2   \n",
       "3             rareoopdvds                     0                       1   \n",
       "4                  Og8ys1                     0                       2   \n",
       "\n",
       "   Score        Time                                       Summary  \\\n",
       "0      5  1268179200  Crunchy & Good Gluten-Free Sandwich Cookies!   \n",
       "1      5  1298937600                            great kitty treats   \n",
       "2      3  1224028800                                  COFFEE TASTE   \n",
       "3      2  1335312000              So the Mini-Wheats were too big?   \n",
       "4      5  1334707200                             Great Taste . . .   \n",
       "\n",
       "                                                Text  \n",
       "0  Having tried a couple of other brands of glute...  \n",
       "1  My cat loves these treats. If ever I can't fin...  \n",
       "2  A little less than I expected.  It tends to ha...  \n",
       "3  First there was Frosted Mini-Wheats, in origin...  \n",
       "4  and I want to congratulate the graphic artist ...  "
      ]
     },
     "execution_count": 12,
     "metadata": {},
     "output_type": "execute_result"
    }
   ],
   "source": [
    "vaders = pd.DataFrame(res).T\n",
    "vaders = vaders.reset_index().rename(columns={'index':'Id'})\n",
    "vaders = vaders.merge(df, how='left')\n",
    "vaders.head()"
   ]
  },
  {
   "cell_type": "code",
   "execution_count": 13,
   "metadata": {},
   "outputs": [
    {
     "data": {
      "text/plain": [
       "Index(['Id', 'neg', 'neu', 'pos', 'compound', 'index', 'ProductId', 'UserId',\n",
       "       'ProfileName', 'HelpfulnessNumerator', 'HelpfulnessDenominator',\n",
       "       'Score', 'Time', 'Summary', 'Text'],\n",
       "      dtype='object')"
      ]
     },
     "execution_count": 13,
     "metadata": {},
     "output_type": "execute_result"
    }
   ],
   "source": [
    "vaders.columns"
   ]
  },
  {
   "cell_type": "code",
   "execution_count": 14,
   "metadata": {},
   "outputs": [
    {
     "data": {
      "text/html": [
       "<div>\n",
       "<style scoped>\n",
       "    .dataframe tbody tr th:only-of-type {\n",
       "        vertical-align: middle;\n",
       "    }\n",
       "\n",
       "    .dataframe tbody tr th {\n",
       "        vertical-align: top;\n",
       "    }\n",
       "\n",
       "    .dataframe thead th {\n",
       "        text-align: right;\n",
       "    }\n",
       "</style>\n",
       "<table border=\"1\" class=\"dataframe\">\n",
       "  <thead>\n",
       "    <tr style=\"text-align: right;\">\n",
       "      <th></th>\n",
       "      <th>Id</th>\n",
       "      <th>neg</th>\n",
       "      <th>neu</th>\n",
       "      <th>pos</th>\n",
       "      <th>compound</th>\n",
       "      <th>Score</th>\n",
       "    </tr>\n",
       "  </thead>\n",
       "  <tbody>\n",
       "    <tr>\n",
       "      <th>0</th>\n",
       "      <td>165257</td>\n",
       "      <td>0.000</td>\n",
       "      <td>0.768</td>\n",
       "      <td>0.232</td>\n",
       "      <td>0.9684</td>\n",
       "      <td>5</td>\n",
       "    </tr>\n",
       "    <tr>\n",
       "      <th>1</th>\n",
       "      <td>231466</td>\n",
       "      <td>0.089</td>\n",
       "      <td>0.766</td>\n",
       "      <td>0.144</td>\n",
       "      <td>0.7920</td>\n",
       "      <td>5</td>\n",
       "    </tr>\n",
       "    <tr>\n",
       "      <th>2</th>\n",
       "      <td>427828</td>\n",
       "      <td>0.000</td>\n",
       "      <td>0.880</td>\n",
       "      <td>0.120</td>\n",
       "      <td>0.4588</td>\n",
       "      <td>3</td>\n",
       "    </tr>\n",
       "    <tr>\n",
       "      <th>3</th>\n",
       "      <td>433955</td>\n",
       "      <td>0.009</td>\n",
       "      <td>0.827</td>\n",
       "      <td>0.163</td>\n",
       "      <td>0.9923</td>\n",
       "      <td>2</td>\n",
       "    </tr>\n",
       "    <tr>\n",
       "      <th>4</th>\n",
       "      <td>70261</td>\n",
       "      <td>0.089</td>\n",
       "      <td>0.719</td>\n",
       "      <td>0.191</td>\n",
       "      <td>0.9421</td>\n",
       "      <td>5</td>\n",
       "    </tr>\n",
       "    <tr>\n",
       "      <th>...</th>\n",
       "      <td>...</td>\n",
       "      <td>...</td>\n",
       "      <td>...</td>\n",
       "      <td>...</td>\n",
       "      <td>...</td>\n",
       "      <td>...</td>\n",
       "    </tr>\n",
       "    <tr>\n",
       "      <th>495</th>\n",
       "      <td>240528</td>\n",
       "      <td>0.000</td>\n",
       "      <td>0.794</td>\n",
       "      <td>0.206</td>\n",
       "      <td>0.9296</td>\n",
       "      <td>5</td>\n",
       "    </tr>\n",
       "    <tr>\n",
       "      <th>496</th>\n",
       "      <td>401662</td>\n",
       "      <td>0.028</td>\n",
       "      <td>0.891</td>\n",
       "      <td>0.080</td>\n",
       "      <td>0.9447</td>\n",
       "      <td>5</td>\n",
       "    </tr>\n",
       "    <tr>\n",
       "      <th>497</th>\n",
       "      <td>321503</td>\n",
       "      <td>0.234</td>\n",
       "      <td>0.601</td>\n",
       "      <td>0.165</td>\n",
       "      <td>-0.3187</td>\n",
       "      <td>5</td>\n",
       "    </tr>\n",
       "    <tr>\n",
       "      <th>498</th>\n",
       "      <td>163041</td>\n",
       "      <td>0.000</td>\n",
       "      <td>0.636</td>\n",
       "      <td>0.364</td>\n",
       "      <td>0.9849</td>\n",
       "      <td>4</td>\n",
       "    </tr>\n",
       "    <tr>\n",
       "      <th>499</th>\n",
       "      <td>373598</td>\n",
       "      <td>0.110</td>\n",
       "      <td>0.770</td>\n",
       "      <td>0.120</td>\n",
       "      <td>0.2021</td>\n",
       "      <td>5</td>\n",
       "    </tr>\n",
       "  </tbody>\n",
       "</table>\n",
       "<p>500 rows × 6 columns</p>\n",
       "</div>"
      ],
      "text/plain": [
       "         Id    neg    neu    pos  compound  Score\n",
       "0    165257  0.000  0.768  0.232    0.9684      5\n",
       "1    231466  0.089  0.766  0.144    0.7920      5\n",
       "2    427828  0.000  0.880  0.120    0.4588      3\n",
       "3    433955  0.009  0.827  0.163    0.9923      2\n",
       "4     70261  0.089  0.719  0.191    0.9421      5\n",
       "..      ...    ...    ...    ...       ...    ...\n",
       "495  240528  0.000  0.794  0.206    0.9296      5\n",
       "496  401662  0.028  0.891  0.080    0.9447      5\n",
       "497  321503  0.234  0.601  0.165   -0.3187      5\n",
       "498  163041  0.000  0.636  0.364    0.9849      4\n",
       "499  373598  0.110  0.770  0.120    0.2021      5\n",
       "\n",
       "[500 rows x 6 columns]"
      ]
     },
     "execution_count": 14,
     "metadata": {},
     "output_type": "execute_result"
    }
   ],
   "source": [
    "vaders[['Id', 'neg', 'neu', 'pos', 'compound', 'Score']]"
   ]
  },
  {
   "cell_type": "code",
   "execution_count": 15,
   "metadata": {},
   "outputs": [
    {
     "data": {
      "text/html": [
       "<div>\n",
       "<style scoped>\n",
       "    .dataframe tbody tr th:only-of-type {\n",
       "        vertical-align: middle;\n",
       "    }\n",
       "\n",
       "    .dataframe tbody tr th {\n",
       "        vertical-align: top;\n",
       "    }\n",
       "\n",
       "    .dataframe thead th {\n",
       "        text-align: right;\n",
       "    }\n",
       "</style>\n",
       "<table border=\"1\" class=\"dataframe\">\n",
       "  <thead>\n",
       "    <tr style=\"text-align: right;\">\n",
       "      <th></th>\n",
       "      <th>Id</th>\n",
       "      <th>neg</th>\n",
       "      <th>neu</th>\n",
       "      <th>pos</th>\n",
       "      <th>compound</th>\n",
       "      <th>Score</th>\n",
       "    </tr>\n",
       "  </thead>\n",
       "  <tbody>\n",
       "    <tr>\n",
       "      <th>345</th>\n",
       "      <td>83052</td>\n",
       "      <td>0.017</td>\n",
       "      <td>0.642</td>\n",
       "      <td>0.341</td>\n",
       "      <td>0.9951</td>\n",
       "      <td>5</td>\n",
       "    </tr>\n",
       "    <tr>\n",
       "      <th>250</th>\n",
       "      <td>40749</td>\n",
       "      <td>0.061</td>\n",
       "      <td>0.756</td>\n",
       "      <td>0.183</td>\n",
       "      <td>0.9948</td>\n",
       "      <td>5</td>\n",
       "    </tr>\n",
       "    <tr>\n",
       "      <th>280</th>\n",
       "      <td>111504</td>\n",
       "      <td>0.050</td>\n",
       "      <td>0.693</td>\n",
       "      <td>0.258</td>\n",
       "      <td>0.9944</td>\n",
       "      <td>5</td>\n",
       "    </tr>\n",
       "    <tr>\n",
       "      <th>252</th>\n",
       "      <td>454107</td>\n",
       "      <td>0.035</td>\n",
       "      <td>0.748</td>\n",
       "      <td>0.218</td>\n",
       "      <td>0.9931</td>\n",
       "      <td>5</td>\n",
       "    </tr>\n",
       "    <tr>\n",
       "      <th>319</th>\n",
       "      <td>536873</td>\n",
       "      <td>0.043</td>\n",
       "      <td>0.749</td>\n",
       "      <td>0.208</td>\n",
       "      <td>0.9931</td>\n",
       "      <td>4</td>\n",
       "    </tr>\n",
       "    <tr>\n",
       "      <th>467</th>\n",
       "      <td>53277</td>\n",
       "      <td>0.029</td>\n",
       "      <td>0.742</td>\n",
       "      <td>0.229</td>\n",
       "      <td>0.9926</td>\n",
       "      <td>5</td>\n",
       "    </tr>\n",
       "    <tr>\n",
       "      <th>3</th>\n",
       "      <td>433955</td>\n",
       "      <td>0.009</td>\n",
       "      <td>0.827</td>\n",
       "      <td>0.163</td>\n",
       "      <td>0.9923</td>\n",
       "      <td>2</td>\n",
       "    </tr>\n",
       "    <tr>\n",
       "      <th>166</th>\n",
       "      <td>170530</td>\n",
       "      <td>0.042</td>\n",
       "      <td>0.765</td>\n",
       "      <td>0.194</td>\n",
       "      <td>0.9911</td>\n",
       "      <td>5</td>\n",
       "    </tr>\n",
       "    <tr>\n",
       "      <th>110</th>\n",
       "      <td>501596</td>\n",
       "      <td>0.037</td>\n",
       "      <td>0.771</td>\n",
       "      <td>0.191</td>\n",
       "      <td>0.9910</td>\n",
       "      <td>4</td>\n",
       "    </tr>\n",
       "    <tr>\n",
       "      <th>290</th>\n",
       "      <td>77093</td>\n",
       "      <td>0.044</td>\n",
       "      <td>0.668</td>\n",
       "      <td>0.288</td>\n",
       "      <td>0.9905</td>\n",
       "      <td>5</td>\n",
       "    </tr>\n",
       "    <tr>\n",
       "      <th>428</th>\n",
       "      <td>23680</td>\n",
       "      <td>0.031</td>\n",
       "      <td>0.817</td>\n",
       "      <td>0.151</td>\n",
       "      <td>0.9903</td>\n",
       "      <td>1</td>\n",
       "    </tr>\n",
       "    <tr>\n",
       "      <th>254</th>\n",
       "      <td>352251</td>\n",
       "      <td>0.027</td>\n",
       "      <td>0.745</td>\n",
       "      <td>0.227</td>\n",
       "      <td>0.9901</td>\n",
       "      <td>5</td>\n",
       "    </tr>\n",
       "    <tr>\n",
       "      <th>384</th>\n",
       "      <td>126111</td>\n",
       "      <td>0.033</td>\n",
       "      <td>0.736</td>\n",
       "      <td>0.230</td>\n",
       "      <td>0.9900</td>\n",
       "      <td>5</td>\n",
       "    </tr>\n",
       "    <tr>\n",
       "      <th>309</th>\n",
       "      <td>367754</td>\n",
       "      <td>0.000</td>\n",
       "      <td>0.481</td>\n",
       "      <td>0.519</td>\n",
       "      <td>0.9888</td>\n",
       "      <td>5</td>\n",
       "    </tr>\n",
       "    <tr>\n",
       "      <th>38</th>\n",
       "      <td>203993</td>\n",
       "      <td>0.013</td>\n",
       "      <td>0.823</td>\n",
       "      <td>0.165</td>\n",
       "      <td>0.9880</td>\n",
       "      <td>5</td>\n",
       "    </tr>\n",
       "    <tr>\n",
       "      <th>128</th>\n",
       "      <td>265491</td>\n",
       "      <td>0.023</td>\n",
       "      <td>0.672</td>\n",
       "      <td>0.306</td>\n",
       "      <td>0.9879</td>\n",
       "      <td>4</td>\n",
       "    </tr>\n",
       "    <tr>\n",
       "      <th>440</th>\n",
       "      <td>448106</td>\n",
       "      <td>0.000</td>\n",
       "      <td>0.824</td>\n",
       "      <td>0.176</td>\n",
       "      <td>0.9871</td>\n",
       "      <td>4</td>\n",
       "    </tr>\n",
       "    <tr>\n",
       "      <th>360</th>\n",
       "      <td>427295</td>\n",
       "      <td>0.000</td>\n",
       "      <td>0.846</td>\n",
       "      <td>0.154</td>\n",
       "      <td>0.9871</td>\n",
       "      <td>5</td>\n",
       "    </tr>\n",
       "    <tr>\n",
       "      <th>237</th>\n",
       "      <td>349105</td>\n",
       "      <td>0.000</td>\n",
       "      <td>0.648</td>\n",
       "      <td>0.352</td>\n",
       "      <td>0.9869</td>\n",
       "      <td>5</td>\n",
       "    </tr>\n",
       "    <tr>\n",
       "      <th>177</th>\n",
       "      <td>373391</td>\n",
       "      <td>0.062</td>\n",
       "      <td>0.787</td>\n",
       "      <td>0.151</td>\n",
       "      <td>0.9868</td>\n",
       "      <td>2</td>\n",
       "    </tr>\n",
       "    <tr>\n",
       "      <th>475</th>\n",
       "      <td>30676</td>\n",
       "      <td>0.000</td>\n",
       "      <td>0.835</td>\n",
       "      <td>0.165</td>\n",
       "      <td>0.9868</td>\n",
       "      <td>5</td>\n",
       "    </tr>\n",
       "    <tr>\n",
       "      <th>181</th>\n",
       "      <td>200932</td>\n",
       "      <td>0.042</td>\n",
       "      <td>0.793</td>\n",
       "      <td>0.165</td>\n",
       "      <td>0.9865</td>\n",
       "      <td>2</td>\n",
       "    </tr>\n",
       "    <tr>\n",
       "      <th>196</th>\n",
       "      <td>215142</td>\n",
       "      <td>0.000</td>\n",
       "      <td>0.597</td>\n",
       "      <td>0.403</td>\n",
       "      <td>0.9862</td>\n",
       "      <td>5</td>\n",
       "    </tr>\n",
       "    <tr>\n",
       "      <th>498</th>\n",
       "      <td>163041</td>\n",
       "      <td>0.000</td>\n",
       "      <td>0.636</td>\n",
       "      <td>0.364</td>\n",
       "      <td>0.9849</td>\n",
       "      <td>4</td>\n",
       "    </tr>\n",
       "    <tr>\n",
       "      <th>300</th>\n",
       "      <td>234611</td>\n",
       "      <td>0.038</td>\n",
       "      <td>0.842</td>\n",
       "      <td>0.120</td>\n",
       "      <td>0.9843</td>\n",
       "      <td>5</td>\n",
       "    </tr>\n",
       "    <tr>\n",
       "      <th>40</th>\n",
       "      <td>257342</td>\n",
       "      <td>0.043</td>\n",
       "      <td>0.802</td>\n",
       "      <td>0.156</td>\n",
       "      <td>0.9830</td>\n",
       "      <td>5</td>\n",
       "    </tr>\n",
       "    <tr>\n",
       "      <th>226</th>\n",
       "      <td>331974</td>\n",
       "      <td>0.077</td>\n",
       "      <td>0.707</td>\n",
       "      <td>0.217</td>\n",
       "      <td>0.9830</td>\n",
       "      <td>1</td>\n",
       "    </tr>\n",
       "    <tr>\n",
       "      <th>52</th>\n",
       "      <td>484314</td>\n",
       "      <td>0.000</td>\n",
       "      <td>0.777</td>\n",
       "      <td>0.223</td>\n",
       "      <td>0.9819</td>\n",
       "      <td>5</td>\n",
       "    </tr>\n",
       "    <tr>\n",
       "      <th>162</th>\n",
       "      <td>280403</td>\n",
       "      <td>0.056</td>\n",
       "      <td>0.790</td>\n",
       "      <td>0.154</td>\n",
       "      <td>0.9817</td>\n",
       "      <td>4</td>\n",
       "    </tr>\n",
       "    <tr>\n",
       "      <th>401</th>\n",
       "      <td>47976</td>\n",
       "      <td>0.000</td>\n",
       "      <td>0.617</td>\n",
       "      <td>0.383</td>\n",
       "      <td>0.9815</td>\n",
       "      <td>4</td>\n",
       "    </tr>\n",
       "  </tbody>\n",
       "</table>\n",
       "</div>"
      ],
      "text/plain": [
       "         Id    neg    neu    pos  compound  Score\n",
       "345   83052  0.017  0.642  0.341    0.9951      5\n",
       "250   40749  0.061  0.756  0.183    0.9948      5\n",
       "280  111504  0.050  0.693  0.258    0.9944      5\n",
       "252  454107  0.035  0.748  0.218    0.9931      5\n",
       "319  536873  0.043  0.749  0.208    0.9931      4\n",
       "467   53277  0.029  0.742  0.229    0.9926      5\n",
       "3    433955  0.009  0.827  0.163    0.9923      2\n",
       "166  170530  0.042  0.765  0.194    0.9911      5\n",
       "110  501596  0.037  0.771  0.191    0.9910      4\n",
       "290   77093  0.044  0.668  0.288    0.9905      5\n",
       "428   23680  0.031  0.817  0.151    0.9903      1\n",
       "254  352251  0.027  0.745  0.227    0.9901      5\n",
       "384  126111  0.033  0.736  0.230    0.9900      5\n",
       "309  367754  0.000  0.481  0.519    0.9888      5\n",
       "38   203993  0.013  0.823  0.165    0.9880      5\n",
       "128  265491  0.023  0.672  0.306    0.9879      4\n",
       "440  448106  0.000  0.824  0.176    0.9871      4\n",
       "360  427295  0.000  0.846  0.154    0.9871      5\n",
       "237  349105  0.000  0.648  0.352    0.9869      5\n",
       "177  373391  0.062  0.787  0.151    0.9868      2\n",
       "475   30676  0.000  0.835  0.165    0.9868      5\n",
       "181  200932  0.042  0.793  0.165    0.9865      2\n",
       "196  215142  0.000  0.597  0.403    0.9862      5\n",
       "498  163041  0.000  0.636  0.364    0.9849      4\n",
       "300  234611  0.038  0.842  0.120    0.9843      5\n",
       "40   257342  0.043  0.802  0.156    0.9830      5\n",
       "226  331974  0.077  0.707  0.217    0.9830      1\n",
       "52   484314  0.000  0.777  0.223    0.9819      5\n",
       "162  280403  0.056  0.790  0.154    0.9817      4\n",
       "401   47976  0.000  0.617  0.383    0.9815      4"
      ]
     },
     "execution_count": 15,
     "metadata": {},
     "output_type": "execute_result"
    }
   ],
   "source": [
    "vaders[['Id', 'neg', 'neu', 'pos', 'compound', 'Score']].sort_values('compound', ascending=False).head(30)"
   ]
  },
  {
   "cell_type": "code",
   "execution_count": 16,
   "metadata": {},
   "outputs": [
    {
     "data": {
      "text/plain": [
       "'Always on the lookout for a new coffee adventure, I took the plunge with this very expensive grind (almost $2/oz!), based upon all the glowing reviews here. The verdict: Huh? What kind of crummy coffee are the ***** rating reviewers comparing this to that it supposedly tastes so \"out of this world\"? After the first cup (brewed using my <a href=\"http://www.amazon.com/gp/product/B000G71J6G\">Swissgold KF 300 One-Cup Coffee Filter</a> in my <a href=\"http://www.amazon.com/gp/product/B000REZVW6\">Trudeau Board Room Desk Mug, Brown Leatherette</a>, using the recipe I\\'ve used for every other cup I\\'ve ever brewed, I thought: \"Jeez, this stuff tastes kinda flat and a bit burned!\" I backed off the amount I used in my next cup, which slightly improved the taste, but then it seemed like it was a bit weak, and therefore intolerable. About the only thing going for it is that it is not bitter tasting.<br /><br />The container in which the coffee comes is neat, though -- a plastic-lined, screw-on lid topping a stylish can -- and I\\'ll get some good use out of it for storing other items once I\\'ve finished with this stuff. But I\\'m here to tell ya that this coffee is most definitely not worth the lofty price.<br /><br />One more problem: This stuff is ground to a near-powder consistency. It tends to clog any drip filter as when wet it becomes like a lump of tar.<br /><br />My recommendation for a truly great, flavorful cup o\\' java: <a href=\"http://www.amazon.com/gp/product/B0007G96XO\">100% Colombia Supremo</a>. For nominally one-third the price of this illy stuff (I\\'ve even bagged it on sale at my local Safeway for &lt;$4 for a 12 oz. can!), you get a way tasty cup of fine Columbian coffee. The Don Francisco 100% Colombia Supremo coffee is still the best I\\'ve ever tasted -- at any price.<br /><br />\\'nuff said.'"
      ]
     },
     "execution_count": 16,
     "metadata": {},
     "output_type": "execute_result"
    }
   ],
   "source": [
    "vaders.iloc[428].Text"
   ]
  },
  {
   "cell_type": "code",
   "execution_count": 31,
   "metadata": {},
   "outputs": [
    {
     "data": {
      "text/plain": [
       "Text(0, 0.5, 'Average VADER polarity score')"
      ]
     },
     "execution_count": 31,
     "metadata": {},
     "output_type": "execute_result"
    },
    {
     "data": {
      "image/png": "[encoded data removed]",
      "text/plain": [
       "<Figure size 640x480 with 1 Axes>"
      ]
     },
     "metadata": {},
     "output_type": "display_data"
    }
   ],
   "source": [
    "sns.boxplot(data=vaders,x='Score', y='compound' ) \n",
    "plt.xlabel('User Score')\n",
    "plt.ylabel('Average VADER polarity score')"
   ]
  },
  {
   "cell_type": "markdown",
   "metadata": {},
   "source": [
    "The chart above shows the average polarity score by the user sentiment. This implies that the VADER model performs very well generally in classifying the sentiment of the reviews"
   ]
  },
  {
   "cell_type": "code",
   "execution_count": 19,
   "metadata": {},
   "outputs": [],
   "source": [
    "# splitting the compound variable into 5 sections for each review\n",
    "def classify(value):\n",
    "\n",
    "    if value <= -0.6:\n",
    "        return 1\n",
    "    elif value <=-0.2:\n",
    "        return 2\n",
    "    elif value <=0.2:\n",
    "        return 3\n",
    "    elif value <=0.6:\n",
    "        return 4\n",
    "    else:\n",
    "        return 5"
   ]
  },
  {
   "cell_type": "code",
   "execution_count": 20,
   "metadata": {},
   "outputs": [],
   "source": [
    "vaders['vader_score'] = vaders['compound'].apply(classify)"
   ]
  },
  {
   "cell_type": "markdown",
   "metadata": {},
   "source": []
  },
  {
   "cell_type": "code",
   "execution_count": 23,
   "metadata": {},
   "outputs": [
    {
     "name": "stdout",
     "output_type": "stream",
     "text": [
      "              precision    recall  f1-score   support\n",
      "\n",
      "           1       0.47      0.15      0.23        46\n",
      "           2       0.20      0.14      0.17        28\n",
      "           3       0.04      0.03      0.04        29\n",
      "           4       0.12      0.09      0.10        76\n",
      "           5       0.72      0.86      0.78       321\n",
      "\n",
      "    accuracy                           0.59       500\n",
      "   macro avg       0.31      0.26      0.26       500\n",
      "weighted avg       0.54      0.59      0.55       500\n",
      "\n"
     ]
    }
   ],
   "source": [
    "from sklearn.metrics import classification_report\n",
    "print(classification_report(vaders.Score, vaders.vader_score))\n"
   ]
  },
  {
   "cell_type": "code",
   "execution_count": 22,
   "metadata": {},
   "outputs": [
    {
     "data": {
      "text/plain": [
       "<AxesSubplot:xlabel='score', ylabel='count'>"
      ]
     },
     "execution_count": 22,
     "metadata": {},
     "output_type": "execute_result"
    },
    {
     "data": {
      "image/png": "[encoded data removed]",
      "text/plain": [
       "<Figure size 1000x600 with 1 Axes>"
      ]
     },
     "metadata": {},
     "output_type": "display_data"
    }
   ],
   "source": [
    "vader_counts = vaders['vader_score'].value_counts().reset_index()\n",
    "vader_counts.columns = ['score', 'count']\n",
    "vader_counts['type'] = 'vader_score'\n",
    "\n",
    "score_counts = vaders['Score'].value_counts().reset_index()\n",
    "score_counts.columns = ['score', 'count']\n",
    "score_counts['type'] = 'Score'\n",
    "\n",
    "# Combine the two DataFrames\n",
    "combined_counts = pd.concat([vader_counts, score_counts])\n",
    "\n",
    "# Create the bar plot using seaborn\n",
    "plt.figure(figsize=(10, 6))\n",
    "sns.barplot(x='score', y='count', hue='type', data=combined_counts)"
   ]
  },
  {
   "cell_type": "markdown",
   "metadata": {},
   "source": [
    "## **ANALYSIS OF THE roBERTa MODEL**"
   ]
  },
  {
   "cell_type": "code",
   "execution_count": 33,
   "metadata": {},
   "outputs": [],
   "source": [
    "from transformers import AutoTokenizer\n",
    "from transformers import AutoModelForSequenceClassification\n",
    "from scipy.special import softmax"
   ]
  },
  {
   "cell_type": "code",
   "execution_count": 34,
   "metadata": {},
   "outputs": [
    {
     "data": {
      "application/vnd.jupyter.widget-view+json": {
       "model_id": "83514e867ec94614aaedc173c3e58a26",
       "version_major": 2,
       "version_minor": 0
      },
      "text/plain": [
       "config.json:   0%|          | 0.00/747 [00:00<?, ?B/s]"
      ]
     },
     "metadata": {},
     "output_type": "display_data"
    },
    {
     "name": "stderr",
     "output_type": "stream",
     "text": [
      "c:\\Users\\HP\\AppData\\Local\\Programs\\Python\\Python310\\lib\\site-packages\\huggingface_hub\\file_download.py:149: UserWarning: `huggingface_hub` cache-system uses symlinks by default to efficiently store duplicated files but your machine does not support them in C:\\Users\\HP\\.cache\\huggingface\\hub\\models--cardiffnlp--twitter-roberta-base-sentiment. Caching files will still work but in a degraded version that might require more space on your disk. This warning can be disabled by setting the `HF_HUB_DISABLE_SYMLINKS_WARNING` environment variable. For more details, see https://huggingface.co/docs/huggingface_hub/how-to-cache#limitations.\n",
      "To support symlinks on Windows, you either need to activate Developer Mode or to run Python as an administrator. In order to see activate developer mode, see this article: https://docs.microsoft.com/en-us/windows/apps/get-started/enable-your-device-for-development\n",
      "  warnings.warn(message)\n"
     ]
    },
    {
     "data": {
      "application/vnd.jupyter.widget-view+json": {
       "model_id": "670f3ac7db8e4f2e91b4cb522084fe02",
       "version_major": 2,
       "version_minor": 0
      },
      "text/plain": [
       "vocab.json:   0%|          | 0.00/899k [00:00<?, ?B/s]"
      ]
     },
     "metadata": {},
     "output_type": "display_data"
    },
    {
     "data": {
      "application/vnd.jupyter.widget-view+json": {
       "model_id": "a4ba3345958144a9ad44f331521c66ad",
       "version_major": 2,
       "version_minor": 0
      },
      "text/plain": [
       "merges.txt:   0%|          | 0.00/456k [00:00<?, ?B/s]"
      ]
     },
     "metadata": {},
     "output_type": "display_data"
    },
    {
     "data": {
      "application/vnd.jupyter.widget-view+json": {
       "model_id": "3a66c3f5f3654ac9a469dc2c67276c2f",
       "version_major": 2,
       "version_minor": 0
      },
      "text/plain": [
       "special_tokens_map.json:   0%|          | 0.00/150 [00:00<?, ?B/s]"
      ]
     },
     "metadata": {},
     "output_type": "display_data"
    }
   ],
   "source": [
    "model = f'cardiffnlp/twitter-roberta-base-sentiment'\n",
    "tokenizer = AutoTokenizer.from_pretrained(model)\n",
    "model = AutoModelForSequenceClassification.from_pretrained(model)"
   ]
  },
  {
   "cell_type": "code",
   "execution_count": null,
   "metadata": {},
   "outputs": [],
   "source": []
  }
 ],
 "metadata": {
  "kernelspec": {
   "display_name": "Python 3",
   "language": "python",
   "name": "python3"
  },
  "language_info": {
   "codemirror_mode": {
    "name": "ipython",
    "version": 3
   },
   "file_extension": ".py",
   "mimetype": "text/x-python",
   "name": "python",
   "nbconvert_exporter": "python",
   "pygments_lexer": "ipython3",
   "version": "3.10.4"
  }
 },
 "nbformat": 4,
 "nbformat_minor": 2
}
